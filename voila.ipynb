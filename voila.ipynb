{
 "cells": [
  {
   "cell_type": "code",
   "execution_count": null,
   "id": "1",
   "metadata": {},
   "outputs": [],
   "source": [
    "import ipywidgets as widgets\n",
    "from IPython.display import display, clear_output\n",
    "import pandas as pd\n",
    "import plotly.express as px\n",
    "import plotly.graph_objects as go\n",
    "from sklearn.model_selection import train_test_split\n",
    "from sklearn.linear_model import LogisticRegression\n",
    "from sklearn.tree import DecisionTreeClassifier\n",
    "from sklearn.ensemble import RandomForestClassifier\n",
    "from sklearn.metrics import confusion_matrix, classification_report, accuracy_score"
   ]
  },
  {
   "cell_type": "code",
   "execution_count": null,
   "id": "2",
   "metadata": {},
   "outputs": [],
   "source": [
    "df = pd.read_csv('data/traficogt_clean.csv')\n",
    "df['datetime_gt'] = pd.to_datetime(df['datetime_gt'])"
   ]
  },
  {
   "cell_type": "code",
   "execution_count": null,
   "id": "3",
   "metadata": {},
   "outputs": [],
   "source": [
    "def prepare_classification_data(df):\n",
    "    df_model = df.copy()\n",
    "    df_model['engagement'] = df_model['likeCount'] + df_model['retweetCount'] + df_model['replyCount']\n",
    "    df_model['high_engagement'] = (df_model['engagement'] > df_model['engagement'].median()).astype(int)\n",
    "\n",
    "    features = ['hora', 'dia', 'mes_num', 'retweetCount']\n",
    "    X = df_model[features].fillna(0)\n",
    "    y = df_model['high_engagement']\n",
    "\n",
    "    return train_test_split(X, y, test_size=0.3, random_state=42)\n",
    "\n",
    "def train_models(X_train, X_test, y_train, y_test):\n",
    "    models = {\n",
    "        'Logistic Regression': LogisticRegression(max_iter=1000, random_state=42),\n",
    "        'Decision Tree': DecisionTreeClassifier(random_state=42),\n",
    "        'Random Forest': RandomForestClassifier(n_estimators=100, random_state=42)\n",
    "    }\n",
    "\n",
    "    results = {}\n",
    "    for name, model in models.items():\n",
    "        model.fit(X_train, y_train)\n",
    "        y_pred = model.predict(X_test)\n",
    "        results[name] = {\n",
    "            'model': model,\n",
    "            'predictions': y_pred,\n",
    "            'accuracy': accuracy_score(y_test, y_pred),\n",
    "            'confusion_matrix': confusion_matrix(y_test, y_pred)\n",
    "        }\n",
    "\n",
    "    return results"
   ]
  },
  {
   "cell_type": "code",
   "execution_count": null,
   "id": "4",
   "metadata": {},
   "outputs": [],
   "source": [
    "X_train, X_test, y_train, y_test = prepare_classification_data(df)\n",
    "models_results = train_models(X_train, X_test, y_train, y_test)"
   ]
  },
  {
   "cell_type": "code",
   "execution_count": null,
   "id": "5",
   "metadata": {},
   "outputs": [],
   "source": [
    "title = widgets.HTML(value=\"<h1 style='text-align: center; color: #2c3e50;'>Dashboard de Análisis TraficoGT</h1>\")\n",
    "\n",
    "month_selector = widgets.SelectMultiple(\n",
    "    options=list(df['mes_nombre'].unique()),\n",
    "    value=list(df['mes_nombre'].unique()),\n",
    "    description='Meses:',\n",
    "    disabled=False,\n",
    "    layout=widgets.Layout(width='300px', height='100px')\n",
    ")\n",
    "\n",
    "day_selector = widgets.SelectMultiple(\n",
    "    options=list(df['dia_semana'].unique()),\n",
    "    value=list(df['dia_semana'].unique()),\n",
    "    description='Días:',\n",
    "    disabled=False,\n",
    "    layout=widgets.Layout(width='300px', height='100px')\n",
    ")\n",
    "\n",
    "model_selector = widgets.Dropdown(\n",
    "    options=list(models_results.keys()),\n",
    "    value=list(models_results.keys())[0],\n",
    "    description='Modelo:',\n",
    "    layout=widgets.Layout(width='400px')\n",
    ")\n",
    "\n",
    "comparison_selector = widgets.SelectMultiple(\n",
    "    options=list(models_results.keys()),\n",
    "    value=list(models_results.keys()),\n",
    "    description='Modelos:',\n",
    "    layout=widgets.Layout(width='400px', height='100px')\n",
    ")\n",
    "\n",
    "exploration_output = widgets.Output()\n",
    "models_output = widgets.Output()\n",
    "comparison_output = widgets.Output()"
   ]
  },
  {
   "cell_type": "code",
   "execution_count": null,
   "id": "6",
   "metadata": {},
   "outputs": [],
   "source": "def update_exploration(change):\n    with exploration_output:\n        clear_output(wait=True)\n\n        selected_months = list(month_selector.value)\n        selected_days = list(day_selector.value)\n\n        if not selected_months or not selected_days:\n            print(\"Seleccione al menos un mes y un día\")\n            return\n\n        df_filtered = df[df['mes_nombre'].isin(selected_months) & df['dia_semana'].isin(selected_days)]\n\n        tweets_por_dia = df_filtered.groupby('dia_semana').size().reindex(['Lunes', 'Martes', 'Miércoles', 'Jueves', 'Viernes', 'Sábado', 'Domingo'])\n        fig1 = px.bar(x=tweets_por_dia.index, y=tweets_por_dia.values, title=\"Tweets por Día de la Semana\", labels={'x': 'Día', 'y': 'Cantidad'}, color=tweets_por_dia.values, color_continuous_scale='Blues')\n        fig1.show()\n\n        tweets_por_hora = df_filtered.groupby('hora').size()\n        fig2 = px.line(x=tweets_por_hora.index, y=tweets_por_hora.values, title=\"Tweets por Hora del Día\", labels={'x': 'Hora', 'y': 'Cantidad'}, markers=True)\n        fig2.update_traces(line_color='#1f77b4')\n        fig2.show()\n\n        engagement_por_mes = df_filtered.groupby('mes_nombre')[['likeCount', 'retweetCount', 'replyCount']].sum()\n        fig3 = px.bar(engagement_por_mes, x=engagement_por_mes.index, y=['likeCount', 'retweetCount', 'replyCount'], title=\"Engagement por Mes\", labels={'value': 'Cantidad', 'variable': 'Tipo', 'mes_nombre': 'Mes'}, barmode='group')\n        fig3.show()\n\n        top_users = df_filtered['user.username'].value_counts().head(10)\n        fig4 = px.bar(x=top_users.values, y=top_users.index, orientation='h', title=\"Top 10 Usuarios más Activos\", labels={'x': 'Tweets', 'y': 'Usuario'}, color=top_users.values, color_continuous_scale='Teal')\n        fig4.show()\n\ndef update_models(change):\n    with models_output:\n        clear_output(wait=True)\n\n        explanation = \"\"\"\n        <h3>Objetivo del Modelo</h3>\n        <p>Este modelo intenta predecir si un tweet sobre tráfico tendrá <b>alto engagement</b> (muchos likes, retweets y replies)\n        basándose en características temporales y en el número de retweets que recibe en tiempo real.</p>\n\n        <h4>Features utilizados:</h4>\n        <ul>\n            <li><b>Hora del tweet</b> (0-23): La hora del día en que se publica</li>\n            <li><b>Día de la semana</b> (1-7): Lunes, martes, etc.</li>\n            <li><b>Mes del año</b> (1-12): El mes en que se publica</li>\n            <li><b>Retweet Count</b>: Cantidad de retweets recibidos</li>\n        </ul>\n\n        <h4>Variable objetivo:</h4>\n        <ul>\n            <li><b>Alto engagement</b> (1): Engagement por encima de la mediana</li>\n            <li><b>Bajo engagement</b> (0): Engagement por debajo de la mediana</li>\n        </ul>\n        \"\"\"\n\n        display(widgets.HTML(value=explanation))\n\n        selected_model = model_selector.value\n        accuracy = models_results[selected_model]['accuracy']\n\n        print(f\"\\nAccuracy: {accuracy:.2%}\")\n        print(\"Porcentaje de predicciones correctas del modelo en datos de prueba\")\n        print(\"\\n\")\n\n        cm = models_results[selected_model]['confusion_matrix']\n        fig_cm = px.imshow(cm, text_auto=True, title=f\"Matriz de Confusión - {selected_model}\", labels=dict(x=\"Predicción\", y=\"Real\", color=\"Cantidad\"), color_continuous_scale='Blues')\n        fig_cm.show()\n\n        report = classification_report(y_test, models_results[selected_model]['predictions'], output_dict=True)\n        df_report = pd.DataFrame(report).transpose()\n        print(\"\\nMétricas del Modelo:\")\n        display(df_report)\n\ndef update_comparison(change):\n    with comparison_output:\n        clear_output(wait=True)\n\n        selected_models = list(comparison_selector.value)\n\n        if not selected_models:\n            print(\"Seleccione al menos un modelo\")\n            return\n\n        comparison_data = []\n        for model_name in selected_models:\n            comparison_data.append({\n                'Modelo': model_name,\n                'Accuracy': models_results[model_name]['accuracy']\n            })\n\n        df_comparison = pd.DataFrame(comparison_data)\n        print(\"Tabla Comparativa:\")\n        display(df_comparison)\n        print(\"\\n\")\n\n        fig = px.bar(df_comparison, x='Modelo', y='Accuracy', title=\"Comparación de Accuracy entre Modelos\", color='Accuracy', color_continuous_scale='Viridis')\n        fig.show()"
  },
  {
   "cell_type": "code",
   "execution_count": null,
   "id": "7",
   "metadata": {},
   "outputs": [],
   "source": [
    "month_selector.observe(update_exploration, names='value')\n",
    "day_selector.observe(update_exploration, names='value')\n",
    "model_selector.observe(update_models, names='value')\n",
    "comparison_selector.observe(update_comparison, names='value')"
   ]
  },
  {
   "cell_type": "code",
   "execution_count": null,
   "id": "8",
   "metadata": {},
   "outputs": [],
   "source": [
    "update_exploration(None)\n",
    "update_models(None)\n",
    "update_comparison(None)"
   ]
  },
  {
   "cell_type": "code",
   "execution_count": null,
   "id": "9",
   "metadata": {},
   "outputs": [],
   "source": [
    "exploration_tab = widgets.VBox([\n",
    "    widgets.HTML(value=\"<h3>Filtros de Exploración</h3>\"),\n",
    "    widgets.HBox([month_selector, day_selector]),\n",
    "    exploration_output\n",
    "])\n",
    "\n",
    "models_tab = widgets.VBox([\n",
    "    widgets.HTML(value=\"<h3>Seleccionar Modelo</h3>\"),\n",
    "    model_selector,\n",
    "    models_output\n",
    "])\n",
    "\n",
    "comparison_tab = widgets.VBox([\n",
    "    widgets.HTML(value=\"<h3>Seleccionar Modelos para Comparar</h3>\"),\n",
    "    comparison_selector,\n",
    "    comparison_output\n",
    "])\n",
    "\n",
    "tab = widgets.Tab()\n",
    "tab.children = [exploration_tab, models_tab, comparison_tab]\n",
    "tab.set_title(0, 'Exploración de Datos')\n",
    "tab.set_title(1, 'Modelos Predictivos')\n",
    "tab.set_title(2, 'Comparación de Modelos')\n",
    "\n",
    "display(title)\n",
    "display(tab)"
   ]
  }
 ],
 "metadata": {
  "kernelspec": {
   "display_name": "base",
   "language": "python",
   "name": "python3"
  },
  "language_info": {
   "name": "python",
   "version": "3.13.5"
  }
 },
 "nbformat": 4,
 "nbformat_minor": 5
}